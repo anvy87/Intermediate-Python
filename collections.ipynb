{
 "cells": [
  {
   "cell_type": "markdown",
   "id": "107e74ea-ba43-4b6e-9d8e-13b97ed19b44",
   "metadata": {},
   "source": [
    "## Counter, namedtuple, OrderDict, defaultdict, deque"
   ]
  },
  {
   "cell_type": "code",
   "execution_count": 2,
   "id": "01007300-de2c-47b0-ac16-4f260a2acdbd",
   "metadata": {},
   "outputs": [],
   "source": [
    "from collections import Counter"
   ]
  },
  {
   "cell_type": "code",
   "execution_count": 3,
   "id": "04e98c71-6ef4-4779-b1a9-98da567c8f2d",
   "metadata": {},
   "outputs": [],
   "source": [
    "a = \"aaabbbbcccc\""
   ]
  },
  {
   "cell_type": "code",
   "execution_count": 4,
   "id": "9615ce37-f333-4f17-8a1b-f655c85b956a",
   "metadata": {},
   "outputs": [
    {
     "name": "stdout",
     "output_type": "stream",
     "text": [
      "Counter({'b': 4, 'c': 4, 'a': 3})\n",
      "dict_items([('a', 3), ('b', 4), ('c', 4)])\n",
      "dict_keys(['a', 'b', 'c'])\n",
      "dict_values([3, 4, 4])\n"
     ]
    }
   ],
   "source": [
    "my_counter = Counter(a)\n",
    "print(my_counter)\n",
    "print(my_counter.items())\n",
    "print(my_counter.keys())\n",
    "print(my_counter.values())"
   ]
  },
  {
   "cell_type": "code",
   "execution_count": 8,
   "id": "9ab7c8f2-38c5-4bae-a799-77e4ed19c285",
   "metadata": {},
   "outputs": [
    {
     "name": "stdout",
     "output_type": "stream",
     "text": [
      "[('b', 4), ('c', 4), ('a', 3)]\n",
      "[('b', 4)]\n",
      "('b', 4)\n",
      "b\n"
     ]
    }
   ],
   "source": [
    "print(my_counter.most_common())\n",
    "print(my_counter.most_common(1))\n",
    "print(my_counter.most_common(1)[0])\n",
    "print(my_counter.most_common()[0][0])"
   ]
  },
  {
   "cell_type": "code",
   "execution_count": 11,
   "id": "4039d94f-39e1-41af-b025-b59340e6720b",
   "metadata": {},
   "outputs": [
    {
     "name": "stdout",
     "output_type": "stream",
     "text": [
      "['a', 'a', 'a', 'b', 'b', 'b', 'b', 'c', 'c', 'c', 'c']\n"
     ]
    }
   ],
   "source": [
    "print(list(my_counter.elements()))"
   ]
  },
  {
   "cell_type": "code",
   "execution_count": 12,
   "id": "b11c934a-f124-4a71-9246-d0aca736b4ce",
   "metadata": {},
   "outputs": [],
   "source": [
    "from collections import namedtuple"
   ]
  },
  {
   "cell_type": "code",
   "execution_count": 13,
   "id": "ce4d59a5-46fa-46ec-b43e-884d0d7074a2",
   "metadata": {},
   "outputs": [],
   "source": [
    "Point = namedtuple('Point', 'x,y')"
   ]
  },
  {
   "cell_type": "code",
   "execution_count": 14,
   "id": "5cc892da-b350-465b-8957-fdf78f9a9bef",
   "metadata": {},
   "outputs": [],
   "source": [
    "pt = Point(2,-4)"
   ]
  },
  {
   "cell_type": "code",
   "execution_count": 16,
   "id": "7d29fef8-62ab-4b08-968e-4bf988ff2ecf",
   "metadata": {},
   "outputs": [
    {
     "name": "stdout",
     "output_type": "stream",
     "text": [
      "Point(x=2, y=-4)\n",
      "2 -4\n"
     ]
    }
   ],
   "source": [
    "print(pt)\n",
    "print(pt.x, pt.y)"
   ]
  },
  {
   "cell_type": "code",
   "execution_count": 17,
   "id": "2b7e8ebb-abb7-44b1-aa89-81bedf847fb3",
   "metadata": {},
   "outputs": [],
   "source": [
    "from collections import OrderedDict"
   ]
  },
  {
   "cell_type": "code",
   "execution_count": 18,
   "id": "69384f2a-86d4-4258-b30a-1a3cc9195ee4",
   "metadata": {},
   "outputs": [
    {
     "name": "stdout",
     "output_type": "stream",
     "text": [
      "OrderedDict([('a', 1), ('b', 2), ('d', 3), ('c', 4)])\n"
     ]
    }
   ],
   "source": [
    "ordered_dict = OrderedDict()\n",
    "ordered_dict['a'] = 1\n",
    "ordered_dict['b'] = 2\n",
    "ordered_dict['d'] = 3\n",
    "ordered_dict['c'] = 4\n",
    "print(ordered_dict)"
   ]
  },
  {
   "cell_type": "code",
   "execution_count": 19,
   "id": "fb98f91f-7ecb-46b6-aa26-17a0007998bb",
   "metadata": {},
   "outputs": [],
   "source": [
    "from collections import defaultdict"
   ]
  },
  {
   "cell_type": "code",
   "execution_count": 20,
   "id": "155058a0-465b-4045-937c-598e6cb6b933",
   "metadata": {},
   "outputs": [],
   "source": [
    "d = defaultdict(int)"
   ]
  },
  {
   "cell_type": "code",
   "execution_count": 21,
   "id": "4fee7855-632c-4608-b54a-6e7b5566c912",
   "metadata": {},
   "outputs": [
    {
     "name": "stdout",
     "output_type": "stream",
     "text": [
      "defaultdict(<class 'int'>, {'a': 1, 'b': 2})\n"
     ]
    }
   ],
   "source": [
    "d['a'] = 1\n",
    "d['b'] = 2\n",
    "print(d)"
   ]
  },
  {
   "cell_type": "code",
   "execution_count": 23,
   "id": "579ed51d-4ff7-49ed-893b-9762bfa95459",
   "metadata": {},
   "outputs": [
    {
     "name": "stdout",
     "output_type": "stream",
     "text": [
      "1\n",
      "2\n"
     ]
    }
   ],
   "source": [
    "print(d['a'])\n",
    "print(d['b'])"
   ]
  },
  {
   "cell_type": "code",
   "execution_count": 24,
   "id": "ab7a4cc6-06fb-4e6a-bd9f-f38a0c00de92",
   "metadata": {},
   "outputs": [],
   "source": [
    "from collections import deque"
   ]
  },
  {
   "cell_type": "code",
   "execution_count": 25,
   "id": "b9f4b3e6-6436-4262-89d8-60bfa71fa384",
   "metadata": {},
   "outputs": [],
   "source": [
    "d = deque()"
   ]
  },
  {
   "cell_type": "code",
   "execution_count": 26,
   "id": "2cf54d46-0d0d-4ab3-9339-af2355d12389",
   "metadata": {},
   "outputs": [
    {
     "name": "stdout",
     "output_type": "stream",
     "text": [
      "deque([1, 2])\n"
     ]
    }
   ],
   "source": [
    "d.append(1)\n",
    "d.append(2)\n",
    "print(d)"
   ]
  },
  {
   "cell_type": "code",
   "execution_count": 27,
   "id": "b17b774b-182e-4756-81e2-999ce0e69b26",
   "metadata": {},
   "outputs": [
    {
     "name": "stdout",
     "output_type": "stream",
     "text": [
      "deque([3, 1, 2])\n"
     ]
    }
   ],
   "source": [
    "d.appendleft(3)\n",
    "print(d)"
   ]
  },
  {
   "cell_type": "code",
   "execution_count": 28,
   "id": "58c8e4f0-6b7f-4dc7-b1d3-5879ed91c61f",
   "metadata": {},
   "outputs": [
    {
     "name": "stdout",
     "output_type": "stream",
     "text": [
      "deque([3, 1])\n"
     ]
    }
   ],
   "source": [
    "d.pop()\n",
    "print(d)"
   ]
  },
  {
   "cell_type": "code",
   "execution_count": 29,
   "id": "d149eb4e-68ff-43b6-83a5-7bc9c61a3e1e",
   "metadata": {},
   "outputs": [
    {
     "name": "stdout",
     "output_type": "stream",
     "text": [
      "deque([1, 3])\n"
     ]
    }
   ],
   "source": [
    "d.rotate(1)\n",
    "print(d)"
   ]
  },
  {
   "cell_type": "code",
   "execution_count": null,
   "id": "7b4de946-63b0-48e7-b991-21af3e1e1e80",
   "metadata": {},
   "outputs": [],
   "source": []
  }
 ],
 "metadata": {
  "kernelspec": {
   "display_name": "Python 3 (ipykernel)",
   "language": "python",
   "name": "python3"
  },
  "language_info": {
   "codemirror_mode": {
    "name": "ipython",
    "version": 3
   },
   "file_extension": ".py",
   "mimetype": "text/x-python",
   "name": "python",
   "nbconvert_exporter": "python",
   "pygments_lexer": "ipython3",
   "version": "3.8.12"
  }
 },
 "nbformat": 4,
 "nbformat_minor": 5
}
