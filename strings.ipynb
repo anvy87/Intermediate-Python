{
 "cells": [
  {
   "cell_type": "code",
   "execution_count": 4,
   "id": "81fa1010-4089-438f-a466-d87620a754d0",
   "metadata": {},
   "outputs": [
    {
     "name": "stdout",
     "output_type": "stream",
     "text": [
      "Hello World\n",
      "*************\n",
      "Hello\n",
      "World\n",
      "*************\n",
      "Hello World\n"
     ]
    }
   ],
   "source": [
    "my_string = \"Hello World\"\n",
    "print(my_string)\n",
    "\n",
    "print(\"*************\")\n",
    "\n",
    "my_string1 = \"\"\"Hello\n",
    "World\"\"\"\n",
    "print(my_string1)\n",
    "\n",
    "print(\"*************\")\n",
    "\n",
    "my_string2 = \"\"\"Hello \\\n",
    "World\"\"\"\n",
    "print(my_string2)"
   ]
  },
  {
   "cell_type": "code",
   "execution_count": 6,
   "id": "c857a8bb-8b0e-4b60-afab-4bacb6aea86e",
   "metadata": {},
   "outputs": [
    {
     "name": "stdout",
     "output_type": "stream",
     "text": [
      "d\n"
     ]
    }
   ],
   "source": [
    "my_string3 = \"Hello World\"\n",
    "char = my_string3[-1]\n",
    "print(char)"
   ]
  },
  {
   "cell_type": "code",
   "execution_count": 7,
   "id": "e2389152-8201-4576-a50f-ecb722b88ec4",
   "metadata": {},
   "outputs": [
    {
     "name": "stdout",
     "output_type": "stream",
     "text": [
      "ello\n"
     ]
    }
   ],
   "source": [
    "substring = my_string[1:5]\n",
    "print(substring)"
   ]
  },
  {
   "cell_type": "code",
   "execution_count": 12,
   "id": "cd39c8ba-9f25-45ba-b13f-81f1dd684b26",
   "metadata": {},
   "outputs": [
    {
     "name": "stdout",
     "output_type": "stream",
     "text": [
      "el ol\n"
     ]
    }
   ],
   "source": [
    "substring = my_string[1::2]\n",
    "print(substring)"
   ]
  },
  {
   "cell_type": "code",
   "execution_count": 13,
   "id": "e909a7bf-4e18-4030-96d1-ca148023f852",
   "metadata": {},
   "outputs": [
    {
     "name": "stdout",
     "output_type": "stream",
     "text": [
      "H\n",
      "e\n",
      "l\n",
      "l\n",
      "o\n"
     ]
    }
   ],
   "source": [
    "greeting = \"Hello\"\n",
    "for i in greeting:\n",
    "    print(i)"
   ]
  },
  {
   "cell_type": "code",
   "execution_count": 14,
   "id": "24408541-deec-4848-9b92-ec6f9e9e42d4",
   "metadata": {},
   "outputs": [
    {
     "name": "stdout",
     "output_type": "stream",
     "text": [
      "yes\n"
     ]
    }
   ],
   "source": [
    "if 'e' in greeting:\n",
    "    print('yes')\n",
    "else:\n",
    "    print('no')"
   ]
  },
  {
   "cell_type": "code",
   "execution_count": 15,
   "id": "99c4f67d-62a3-4963-ac8a-dd30db206d29",
   "metadata": {},
   "outputs": [
    {
     "name": "stdout",
     "output_type": "stream",
     "text": [
      "            Hello World        \n"
     ]
    }
   ],
   "source": [
    "my_string = '            Hello World        '\n",
    "print(my_string)"
   ]
  },
  {
   "cell_type": "code",
   "execution_count": 18,
   "id": "6ff124b8-3102-4cd3-9c45-ccff2c8ea97b",
   "metadata": {},
   "outputs": [
    {
     "name": "stdout",
     "output_type": "stream",
     "text": [
      "Hello World\n"
     ]
    }
   ],
   "source": [
    "my_string = '      Hello World   '\n",
    "my_string = my_string.strip()\n",
    "print(my_string)"
   ]
  },
  {
   "cell_type": "code",
   "execution_count": 20,
   "id": "ab094ce6-9ba9-42e9-9028-728ebe1f07f3",
   "metadata": {},
   "outputs": [
    {
     "name": "stdout",
     "output_type": "stream",
     "text": [
      "HELLO WORLD\n"
     ]
    }
   ],
   "source": [
    "print(my_string.upper())"
   ]
  },
  {
   "cell_type": "code",
   "execution_count": 21,
   "id": "68a5ea57-6370-426d-8489-13d8bdb2bd73",
   "metadata": {},
   "outputs": [
    {
     "name": "stdout",
     "output_type": "stream",
     "text": [
      "hello world\n"
     ]
    }
   ],
   "source": [
    "print(my_string.lower())"
   ]
  },
  {
   "cell_type": "code",
   "execution_count": 22,
   "id": "27967ec9-9387-4766-a1ce-4c321d7ce704",
   "metadata": {},
   "outputs": [
    {
     "name": "stdout",
     "output_type": "stream",
     "text": [
      "True\n"
     ]
    }
   ],
   "source": [
    "print(my_string.startswith('H'))"
   ]
  },
  {
   "cell_type": "code",
   "execution_count": 23,
   "id": "ac7bc44a-45e8-4977-80df-9cba4a9ecb82",
   "metadata": {},
   "outputs": [
    {
     "name": "stdout",
     "output_type": "stream",
     "text": [
      "4\n"
     ]
    }
   ],
   "source": [
    "print(my_string.find('o'))"
   ]
  },
  {
   "cell_type": "code",
   "execution_count": 24,
   "id": "16a8b394-a3f1-4622-8987-cef86ed8c849",
   "metadata": {},
   "outputs": [
    {
     "name": "stdout",
     "output_type": "stream",
     "text": [
      "3\n"
     ]
    }
   ],
   "source": [
    "print(my_string.count('l'))"
   ]
  },
  {
   "cell_type": "code",
   "execution_count": 26,
   "id": "eecd2794-7c1e-48c7-b771-6612a221bae4",
   "metadata": {},
   "outputs": [
    {
     "name": "stdout",
     "output_type": "stream",
     "text": [
      "Hello Universe\n"
     ]
    }
   ],
   "source": [
    "print(my_string.replace('World', 'Universe'))"
   ]
  },
  {
   "cell_type": "code",
   "execution_count": 27,
   "id": "071c5b79-43c2-4228-96f1-dadd71d58368",
   "metadata": {
    "tags": []
   },
   "outputs": [
    {
     "name": "stdout",
     "output_type": "stream",
     "text": [
      "['how', 'are', 'you', 'doing']\n"
     ]
    }
   ],
   "source": [
    "my_string = 'how are you doing'\n",
    "my_list = my_string.split()\n",
    "print(my_list)"
   ]
  },
  {
   "cell_type": "code",
   "execution_count": 29,
   "id": "408a879a-b9c6-44ab-9300-afbc7779104e",
   "metadata": {
    "tags": []
   },
   "outputs": [
    {
     "name": "stdout",
     "output_type": "stream",
     "text": [
      "['how,are,you,doing']\n",
      "['how', 'are', 'you', 'doing']\n"
     ]
    }
   ],
   "source": [
    "my_string = 'how,are,you,doing'\n",
    "my_list = my_string.split()\n",
    "print(my_list)\n",
    "\n",
    "my_list = my_string.split(\",\")\n",
    "print(my_list)"
   ]
  },
  {
   "cell_type": "code",
   "execution_count": 31,
   "id": "e88e6210-69ef-4794-84cf-00686b963bda",
   "metadata": {},
   "outputs": [
    {
     "name": "stdout",
     "output_type": "stream",
     "text": [
      "howareyoudoing\n"
     ]
    }
   ],
   "source": [
    "new_string = ''.join(my_list)\n",
    "print(new_string)"
   ]
  },
  {
   "cell_type": "code",
   "execution_count": 32,
   "id": "8d67e8fc-4bdc-42b5-a58b-df2012400af7",
   "metadata": {},
   "outputs": [
    {
     "name": "stdout",
     "output_type": "stream",
     "text": [
      "how are you doing\n"
     ]
    }
   ],
   "source": [
    "new_string = ' '.join(my_list)\n",
    "print(new_string)"
   ]
  },
  {
   "cell_type": "code",
   "execution_count": 34,
   "id": "f0065253-1524-4547-8eca-2a70b8227ea0",
   "metadata": {},
   "outputs": [
    {
     "name": "stdout",
     "output_type": "stream",
     "text": [
      "['a', 'a', 'a', 'a', 'a', 'a']\n"
     ]
    }
   ],
   "source": [
    "my_list = ['a'] * 6\n",
    "print(my_list)"
   ]
  },
  {
   "cell_type": "markdown",
   "id": "59256c2e-4b82-4b7b-a9bd-b805a3c73757",
   "metadata": {},
   "source": [
    "## bad python code"
   ]
  },
  {
   "cell_type": "code",
   "execution_count": 35,
   "id": "48488d3f-5774-42f8-8e1e-828e9f08ab25",
   "metadata": {},
   "outputs": [
    {
     "name": "stdout",
     "output_type": "stream",
     "text": [
      "aaaaaa\n"
     ]
    }
   ],
   "source": [
    "my_string = ''\n",
    "for i in my_list:\n",
    "    my_string += i\n",
    "print(my_string)"
   ]
  },
  {
   "cell_type": "markdown",
   "id": "735bc5ce-d2bb-44e6-96bd-0928c9d5583e",
   "metadata": {},
   "source": [
    "## good python code"
   ]
  },
  {
   "cell_type": "code",
   "execution_count": 36,
   "id": "996b1ac0-ee3d-4039-9886-477902bea6e2",
   "metadata": {},
   "outputs": [
    {
     "name": "stdout",
     "output_type": "stream",
     "text": [
      "aaaaaa\n"
     ]
    }
   ],
   "source": [
    "my_string = ''.join(my_list)\n",
    "print(my_string)"
   ]
  },
  {
   "cell_type": "markdown",
   "id": "5bda0b03-174a-4b40-b059-8e412b8ea5b8",
   "metadata": {},
   "source": [
    "# %, .format(), f-Strings"
   ]
  },
  {
   "cell_type": "code",
   "execution_count": 37,
   "id": "0e31e109-426c-4a5f-bbba-fb1d5a58d7f0",
   "metadata": {
    "tags": []
   },
   "outputs": [
    {
     "name": "stdout",
     "output_type": "stream",
     "text": [
      "the variable is Tom\n"
     ]
    }
   ],
   "source": [
    "var = \"Tom\"\n",
    "my_string = \"the variable is %s\" % var\n",
    "print(my_string)"
   ]
  },
  {
   "cell_type": "code",
   "execution_count": 39,
   "id": "1be0872c-3eba-4efa-8259-552d5bba9038",
   "metadata": {
    "tags": []
   },
   "outputs": [
    {
     "name": "stdout",
     "output_type": "stream",
     "text": [
      "the variable is Anvesh\n"
     ]
    }
   ],
   "source": [
    "var1 = \"Anvesh\"\n",
    "my_string = \"the variable is {}\".format(var1)\n",
    "print(my_string)"
   ]
  },
  {
   "cell_type": "code",
   "execution_count": 40,
   "id": "69d65d1b-33f8-4724-ab46-b3b87adf96e9",
   "metadata": {},
   "outputs": [
    {
     "name": "stdout",
     "output_type": "stream",
     "text": [
      "the variable is Mishra\n"
     ]
    }
   ],
   "source": [
    "var2 = \"Mishra\"\n",
    "my_string = f\"the variable is {var2}\"\n",
    "print(my_string)"
   ]
  },
  {
   "cell_type": "code",
   "execution_count": null,
   "id": "2202a22c-7bbb-4ef7-b404-0edf029984c9",
   "metadata": {},
   "outputs": [],
   "source": []
  }
 ],
 "metadata": {
  "kernelspec": {
   "display_name": "Python 3 (ipykernel)",
   "language": "python",
   "name": "python3"
  },
  "language_info": {
   "codemirror_mode": {
    "name": "ipython",
    "version": 3
   },
   "file_extension": ".py",
   "mimetype": "text/x-python",
   "name": "python",
   "nbconvert_exporter": "python",
   "pygments_lexer": "ipython3",
   "version": "3.8.12"
  }
 },
 "nbformat": 4,
 "nbformat_minor": 5
}
