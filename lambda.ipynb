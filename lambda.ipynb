{
 "cells": [
  {
   "cell_type": "code",
   "execution_count": 1,
   "id": "c136fc59-6e19-459c-a6ff-02d75a94326e",
   "metadata": {},
   "outputs": [
    {
     "name": "stdout",
     "output_type": "stream",
     "text": [
      "15\n"
     ]
    }
   ],
   "source": [
    "add10 = lambda x: x + 10\n",
    "print(add10(5))"
   ]
  },
  {
   "cell_type": "code",
   "execution_count": 2,
   "id": "a26a258a-46f3-4be7-9cfa-4854141af647",
   "metadata": {},
   "outputs": [
    {
     "name": "stdout",
     "output_type": "stream",
     "text": [
      "8\n"
     ]
    }
   ],
   "source": [
    "mult = lambda x,y : x*y\n",
    "print(mult(2,4))"
   ]
  },
  {
   "cell_type": "markdown",
   "id": "f01f00fd-3374-4768-a1d4-5f08589020f4",
   "metadata": {},
   "source": [
    "## sorted"
   ]
  },
  {
   "cell_type": "code",
   "execution_count": 3,
   "id": "39416fb1-a4a2-49f9-a083-d774fb7475ea",
   "metadata": {},
   "outputs": [],
   "source": [
    "points2D = [(1,2), (15,1), (5,-1), (10,4)]\n",
    "points2D_sorted = sorted(points2D)"
   ]
  },
  {
   "cell_type": "code",
   "execution_count": 5,
   "id": "c8c9b0fb-c7b2-4d9b-a5b4-6809c5fc73a0",
   "metadata": {},
   "outputs": [
    {
     "name": "stdout",
     "output_type": "stream",
     "text": [
      "[(1, 2), (15, 1), (5, -1), (10, 4)]\n",
      "[(1, 2), (5, -1), (10, 4), (15, 1)]\n"
     ]
    }
   ],
   "source": [
    "print(points2D)\n",
    "print(points2D_sorted)"
   ]
  },
  {
   "cell_type": "code",
   "execution_count": 7,
   "id": "e86c5d58-25d0-44f6-9a37-47e7684d394b",
   "metadata": {},
   "outputs": [
    {
     "name": "stdout",
     "output_type": "stream",
     "text": [
      "[(1, 2), (15, 1), (5, -1), (10, 4)]\n",
      "[(5, -1), (15, 1), (1, 2), (10, 4)]\n"
     ]
    }
   ],
   "source": [
    "points2D_sorted = sorted(points2D, key=lambda x: x[1]) # sorting with 2nd value i.e. y\n",
    "print(points2D)\n",
    "print(points2D_sorted)"
   ]
  },
  {
   "cell_type": "markdown",
   "id": "14116c40-31f3-4719-999b-e1af1bdfcc32",
   "metadata": {},
   "source": [
    "# map"
   ]
  },
  {
   "cell_type": "code",
   "execution_count": 8,
   "id": "ac611d3a-307c-419d-9ddb-b064fea153d8",
   "metadata": {},
   "outputs": [
    {
     "name": "stdout",
     "output_type": "stream",
     "text": [
      "[2, 4, 6, 8, 10]\n"
     ]
    }
   ],
   "source": [
    "a = [1,2,3,4,5]\n",
    "b = map(lambda x: x*2, a)\n",
    "print(list(b))"
   ]
  },
  {
   "cell_type": "markdown",
   "id": "07f77d0f-126b-42ae-91d9-510a55b08e89",
   "metadata": {},
   "source": [
    "# filter"
   ]
  },
  {
   "cell_type": "code",
   "execution_count": 9,
   "id": "4be0fb56-4ed7-4e7a-bafb-99856a46fbd2",
   "metadata": {},
   "outputs": [
    {
     "name": "stdout",
     "output_type": "stream",
     "text": [
      "[2, 4]\n"
     ]
    }
   ],
   "source": [
    "a = [1,2,3,4,5]\n",
    "b = filter(lambda x: x%2==0, a)\n",
    "print(list(b))"
   ]
  },
  {
   "cell_type": "markdown",
   "id": "a221b7fa-2906-4b5a-8176-16e1c4d4eb3b",
   "metadata": {
    "tags": []
   },
   "source": [
    "# reduce"
   ]
  },
  {
   "cell_type": "code",
   "execution_count": 10,
   "id": "00c0fc19-92e1-4e14-8dc9-0f61570bdc93",
   "metadata": {},
   "outputs": [],
   "source": [
    "from functools import reduce"
   ]
  },
  {
   "cell_type": "code",
   "execution_count": 14,
   "id": "aad209c6-1b8a-4742-adab-af083bff50e9",
   "metadata": {
    "tags": []
   },
   "outputs": [
    {
     "name": "stdout",
     "output_type": "stream",
     "text": [
      "720\n"
     ]
    }
   ],
   "source": [
    "a = [1,2,3,4,5,6]\n",
    "product_a = reduce(lambda x,y: x*y, a)\n",
    "print(product_a)"
   ]
  },
  {
   "cell_type": "code",
   "execution_count": null,
   "id": "9dc7f122-8ed7-4e09-ba72-7d14bc14c091",
   "metadata": {},
   "outputs": [],
   "source": []
  }
 ],
 "metadata": {
  "kernelspec": {
   "display_name": "Python 3 (ipykernel)",
   "language": "python",
   "name": "python3"
  },
  "language_info": {
   "codemirror_mode": {
    "name": "ipython",
    "version": 3
   },
   "file_extension": ".py",
   "mimetype": "text/x-python",
   "name": "python",
   "nbconvert_exporter": "python",
   "pygments_lexer": "ipython3",
   "version": "3.8.12"
  }
 },
 "nbformat": 4,
 "nbformat_minor": 5
}
