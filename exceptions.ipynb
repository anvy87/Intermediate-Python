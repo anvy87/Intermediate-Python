{
 "cells": [
  {
   "cell_type": "code",
   "execution_count": 8,
   "id": "a486031b-d8c7-4a7b-af26-79c348d54120",
   "metadata": {},
   "outputs": [
    {
     "name": "stdout",
     "output_type": "stream",
     "text": [
      "division by zero\n",
      "cleaning up!!\n"
     ]
    }
   ],
   "source": [
    "try:\n",
    "    a=5/0\n",
    "    b=a + 10\n",
    "except ZeroDivisionError as e:\n",
    "    print(e)\n",
    "except TypeError as e:\n",
    "    print(e)\n",
    "else:\n",
    "    print('everything is fine')\n",
    "finally:\n",
    "    print('cleaning up!!')"
   ]
  },
  {
   "cell_type": "code",
   "execution_count": 11,
   "id": "ed5fd599-c95e-481c-89a2-f44449529be2",
   "metadata": {},
   "outputs": [],
   "source": [
    "class ValueTooHighError(Exception):\n",
    "    pass\n",
    "\n",
    "\n",
    "def test_value(x):\n",
    "    if x > 100:\n",
    "        raise ValueTooHighError('value is too high')\n",
    "\n",
    "test_value(46)"
   ]
  },
  {
   "cell_type": "code",
   "execution_count": null,
   "id": "6ebeed85-1d10-4367-a068-9e780c925e9f",
   "metadata": {},
   "outputs": [],
   "source": []
  }
 ],
 "metadata": {
  "kernelspec": {
   "display_name": "Python 3 (ipykernel)",
   "language": "python",
   "name": "python3"
  },
  "language_info": {
   "codemirror_mode": {
    "name": "ipython",
    "version": 3
   },
   "file_extension": ".py",
   "mimetype": "text/x-python",
   "name": "python",
   "nbconvert_exporter": "python",
   "pygments_lexer": "ipython3",
   "version": "3.8.12"
  }
 },
 "nbformat": 4,
 "nbformat_minor": 5
}
