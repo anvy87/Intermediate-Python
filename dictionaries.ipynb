{
 "cells": [
  {
   "cell_type": "code",
   "execution_count": 10,
   "id": "39da9445-f0ba-459c-9b05-c0a6012173ba",
   "metadata": {},
   "outputs": [
    {
     "name": "stdout",
     "output_type": "stream",
     "text": [
      "{'name': 'Anvesh', 'age': 34, 'city': 'Tkmg'}\n"
     ]
    }
   ],
   "source": [
    "mydict = {\"name\": \"Anvesh\", \"age\":34, \"city\": \"Tkmg\"}\n",
    "print(mydict)"
   ]
  },
  {
   "cell_type": "code",
   "execution_count": 11,
   "id": "aa03a041-b0e4-42c6-bd28-0e0d0ef24922",
   "metadata": {},
   "outputs": [
    {
     "name": "stdout",
     "output_type": "stream",
     "text": [
      "{'name': 'Anvesh', 'age': 34, 'city': 'Tkmg', 'email': 'anvesh87@gmail.com'}\n"
     ]
    }
   ],
   "source": [
    "mydict[\"email\"] = \"anvesh87@gmail.com\"\n",
    "print(mydict)"
   ]
  },
  {
   "cell_type": "code",
   "execution_count": 12,
   "id": "ed597eda-257d-4e20-af74-48792c22603e",
   "metadata": {},
   "outputs": [
    {
     "name": "stdout",
     "output_type": "stream",
     "text": [
      "{'age': 34, 'city': 'Tkmg', 'email': 'anvesh87@gmail.com'}\n"
     ]
    }
   ],
   "source": [
    "del mydict[\"name\"]\n",
    "print(mydict)"
   ]
  },
  {
   "cell_type": "code",
   "execution_count": 13,
   "id": "d8ce9a34-24fb-4f8b-9982-50154d1b8684",
   "metadata": {},
   "outputs": [
    {
     "name": "stdout",
     "output_type": "stream",
     "text": [
      "{'city': 'Tkmg', 'email': 'anvesh87@gmail.com'}\n"
     ]
    }
   ],
   "source": [
    "mydict.pop(\"age\")\n",
    "print(mydict)"
   ]
  },
  {
   "cell_type": "code",
   "execution_count": 15,
   "id": "1ab2ea1d-52dd-41f6-a3e1-2f550a821654",
   "metadata": {},
   "outputs": [
    {
     "name": "stdout",
     "output_type": "stream",
     "text": [
      "{'city': 'Tkmg'}\n"
     ]
    }
   ],
   "source": [
    "mydict.popitem()\n",
    "print(mydict)"
   ]
  },
  {
   "cell_type": "code",
   "execution_count": 16,
   "id": "1682f392-bbf1-472d-b87d-df20d0995602",
   "metadata": {},
   "outputs": [
    {
     "name": "stdout",
     "output_type": "stream",
     "text": [
      "{'name': 'Anvesh', 'age': 34, 'city': 'Tkmg'}\n"
     ]
    }
   ],
   "source": [
    "mydict = {\"name\": \"Anvesh\", \"age\":34, \"city\": \"Tkmg\"}\n",
    "print(mydict)"
   ]
  },
  {
   "cell_type": "code",
   "execution_count": 17,
   "id": "bd77b294-84f9-411f-82e3-2ff9f4e74b60",
   "metadata": {},
   "outputs": [
    {
     "name": "stdout",
     "output_type": "stream",
     "text": [
      "Anvesh\n"
     ]
    }
   ],
   "source": [
    "if \"name\" in mydict:\n",
    "    print(mydict[\"name\"])"
   ]
  },
  {
   "cell_type": "code",
   "execution_count": 22,
   "id": "1744e3e4-e6e6-4f52-83f0-bd9296143824",
   "metadata": {},
   "outputs": [
    {
     "name": "stdout",
     "output_type": "stream",
     "text": [
      "Error!\n"
     ]
    }
   ],
   "source": [
    "try:\n",
    "    print(mydict[\"lastname\"]) \n",
    "    #print(mydict[\"name\"])\n",
    "except:\n",
    "    print(\"Error!\")"
   ]
  },
  {
   "cell_type": "code",
   "execution_count": 23,
   "id": "59caab1a-cbc9-422f-961a-39a5cd2534a0",
   "metadata": {},
   "outputs": [
    {
     "name": "stdout",
     "output_type": "stream",
     "text": [
      "name\n",
      "age\n",
      "city\n"
     ]
    }
   ],
   "source": [
    "for key in mydict.keys():\n",
    "    print(key)"
   ]
  },
  {
   "cell_type": "code",
   "execution_count": 24,
   "id": "cf0f374b-c0a8-4fac-bc51-26b45b61a885",
   "metadata": {},
   "outputs": [
    {
     "name": "stdout",
     "output_type": "stream",
     "text": [
      "Anvesh\n",
      "34\n",
      "Tkmg\n"
     ]
    }
   ],
   "source": [
    "for value in mydict.values():\n",
    "    print(value)"
   ]
  },
  {
   "cell_type": "code",
   "execution_count": 25,
   "id": "43810c66-2b7b-4c72-83a8-88010fb6f55b",
   "metadata": {},
   "outputs": [
    {
     "name": "stdout",
     "output_type": "stream",
     "text": [
      "name Anvesh\n",
      "age 34\n",
      "city Tkmg\n"
     ]
    }
   ],
   "source": [
    "for key, value in mydict.items():\n",
    "    print(key, value)"
   ]
  },
  {
   "cell_type": "code",
   "execution_count": 26,
   "id": "01866aaa-4a4e-4643-a7fc-f4fe50a380f7",
   "metadata": {},
   "outputs": [
    {
     "name": "stdout",
     "output_type": "stream",
     "text": [
      "{'name': 'Anvesh', 'age': 34, 'city': 'Tkmg'}\n"
     ]
    }
   ],
   "source": [
    "mydict_cpy = mydict\n",
    "print(mydict_cpy)"
   ]
  },
  {
   "cell_type": "code",
   "execution_count": 27,
   "id": "e60b6cd7-82dc-4581-8857-83728a248e4d",
   "metadata": {},
   "outputs": [
    {
     "name": "stdout",
     "output_type": "stream",
     "text": [
      "{'name': 'Anvesh', 'age': 34, 'city': 'Bpl'}\n",
      "{'name': 'Anvesh', 'age': 34, 'city': 'Bpl'}\n"
     ]
    }
   ],
   "source": [
    "mydict_cpy[\"city\"] = \"Bpl\"\n",
    "print(mydict_cpy)\n",
    "print(mydict)"
   ]
  },
  {
   "cell_type": "code",
   "execution_count": null,
   "id": "d5d67ab5-bab2-4255-92c8-7edc9b2c88d9",
   "metadata": {},
   "outputs": [],
   "source": []
  }
 ],
 "metadata": {
  "kernelspec": {
   "display_name": "Python 3 (ipykernel)",
   "language": "python",
   "name": "python3"
  },
  "language_info": {
   "codemirror_mode": {
    "name": "ipython",
    "version": 3
   },
   "file_extension": ".py",
   "mimetype": "text/x-python",
   "name": "python",
   "nbconvert_exporter": "python",
   "pygments_lexer": "ipython3",
   "version": "3.8.12"
  }
 },
 "nbformat": 4,
 "nbformat_minor": 5
}
